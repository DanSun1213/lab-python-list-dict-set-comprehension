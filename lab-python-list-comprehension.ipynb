{
 "cells": [
  {
   "cell_type": "markdown",
   "id": "25d7736c-ba17-4aff-b6bb-66eba20fbf4e",
   "metadata": {},
   "source": [
    "# Lab | List, Dict and Set Comprehension"
   ]
  },
  {
   "cell_type": "markdown",
   "id": "7dd3cbde-675a-4b81-92c3-f728846dbe06",
   "metadata": {},
   "source": [
    "## Exercise: Managing Customer Orders Optimized with Comprehension"
   ]
  },
  {
   "cell_type": "markdown",
   "id": "5d500160-2fb7-4777-b5e4-09d45ebaf328",
   "metadata": {},
   "source": [
    "In the previous exercise, you developed a program to manage customer orders and inventory. Now, let's take it a step further and incorporate comprehension into your code.\n",
    "\n",
    "Follow the steps below to complete the exercise:\n",
    "\n",
    "1. Review your code from the previous exercise and identify areas where you can apply comprehension to simplify and streamline your code. \n",
    "\n",
    "    - *Hint: Apply it to initialize inventory, updating the inventory and printing the updated inventory.*\n",
    "    \n",
    "    - For example, in initializing the inventory, we could have:\n",
    "    \n",
    "        ```python\n",
    "        def initialize_inventory(products):\n",
    "            inventory = {product: int(input(f\"Enter the quantity of {product}s available: \")) for product in products}\n",
    "            return inventory\n",
    "\n",
    "        ```\n",
    "<br>\n",
    "    \n",
    "    \n",
    "2. Modify the function get_customer_orders so it prompts the user to enter the number of customer orders and gathers the product names using a loop and user input. Use comprehension.\n",
    "\n",
    "3. Add a new function to calculate the total price of the customer order. For each product in customer_orders, prompt the user to enter the price of that product. Use comprehension to calculate the total price. Note: assume that the user can only have 1 unit of each product.\n",
    "\n",
    "4. Modify the update_inventory function to remove the product from the inventory if its quantity becomes zero after fulfilling the customer orders. Use comprehension to filter out the products with a quantity of zero from the inventory.\n",
    "\n",
    "5. Print the total price of the customer order.\n",
    "\n",
    "Your code should produce output similar to the following:\n",
    "\n",
    "```python\n",
    "Enter the quantity of t-shirts available:  5\n",
    "Enter the quantity of mugs available:  4\n",
    "Enter the quantity of hats available:  3\n",
    "Enter the quantity of books available:  2\n",
    "Enter the quantity of keychains available:  1\n",
    "Enter the number of customer orders:  2\n",
    "Enter the name of a product that a customer wants to order:  hat\n",
    "Enter the name of a product that a customer wants to order:  keychain\n",
    "\n",
    "Order Statistics:\n",
    "Total Products Ordered: 2\n",
    "Percentage of Unique Products Ordered: 40.0\n",
    "\n",
    "Updated Inventory:\n",
    "t-shirt: 5\n",
    "mug: 4\n",
    "hat: 2\n",
    "book: 2\n",
    "Enter the price of keychain:  5\n",
    "Enter the price of hat:  10\n",
    "Total Price: 15.0\n",
    "\n",
    "```\n"
   ]
  },
  {
   "cell_type": "code",
   "execution_count": 197,
   "id": "a9af0735-558c-42da-9713-3914730a8412",
   "metadata": {},
   "outputs": [
    {
     "name": "stdout",
     "output_type": "stream",
     "text": [
      "the stock for t-shirt is 1 \n",
      "the stock for mug is 3 \n",
      "the stock for hat is 1 \n",
      "the stock for book is 1 \n",
      "the stock for keychain is 1 \n"
     ]
    }
   ],
   "source": [
    "# 1 initialize inventory\n",
    "\n",
    "products = ['t-shirt', 'mug', 'hat', 'book', 'keychain'];\n",
    "def inventory(products):\n",
    "    inventory = {product: int(input(f\"Enter the amount for {product}\")) for product in products}\n",
    "    return inventory\n",
    " \n",
    "    \n",
    "inventory = inventory(products)\n",
    "for key, value in inventory.items():\n",
    "    print(f'the stock for {key} is {value} ')\n",
    "\n"
   ]
  },
  {
   "cell_type": "code",
   "execution_count": 169,
   "id": "4aef5902-de80-4d52-bbac-fb597a73705c",
   "metadata": {},
   "outputs": [
    {
     "name": "stdout",
     "output_type": "stream",
     "text": [
      "{'t-shirt': 34, 'mug': 56, 'hat': 45, 'book': 34, 'keychain': 45}\n"
     ]
    }
   ],
   "source": [
    "\n",
    "print(inventory)\n",
    "\n",
    "def customer_orders_dic(customer_orders):\n",
    "    for items in customer_orders:\n",
    "        customer_orders_dic = {items:items.count()}\n",
    "    return customer_orders_dic"
   ]
  },
  {
   "cell_type": "code",
   "execution_count": 198,
   "id": "56b58b40",
   "metadata": {},
   "outputs": [
    {
     "data": {
      "text/plain": [
       "['mug', 'book', 'hat']"
      ]
     },
     "execution_count": 198,
     "metadata": {},
     "output_type": "execute_result"
    }
   ],
   "source": [
    "def get_customer_orders():\n",
    "    number_of_orders = input(\"pls enter how many order you would like to make\")\n",
    "    return [input(\"We have t-shirt, mug, hat, book, keychain. Please enter what you would like to order: \") for i in range(int(number_of_orders))]\n",
    "customer_orders =  get_customer_orders()\n",
    "customer_orders"
   ]
  },
  {
   "cell_type": "markdown",
   "id": "ba3ee67f-f283-42f7-aa2c-15eaa0028d64",
   "metadata": {},
   "source": [
    "\n",
    "updated_inventory = {products: inventory[products]- 1 for products in inventory if products in customer_orders}\n"
   ]
  },
  {
   "cell_type": "code",
   "execution_count": 209,
   "id": "a4b0c992-a575-4965-bebf-a9e0b24afb14",
   "metadata": {},
   "outputs": [
    {
     "data": {
      "text/plain": [
       "{'t-shirt': 1, 'mug': 2, 'hat': 0, 'book': 0, 'keychain': 1}"
      ]
     },
     "execution_count": 209,
     "metadata": {},
     "output_type": "execute_result"
    }
   ],
   "source": [
    "#updated_inventory()\n",
    "\n",
    "def updated_inventory(customer_orders):\n",
    "    updated_inventory = {products: inventory[products]- 1 if products in customer_orders else inventory[products] for products in inventory}\n",
    "    return updated_inventory\n",
    "\n",
    "updated_inventory = updated_inventory(customer_orders)\n",
    "updated_inventory"
   ]
  },
  {
   "cell_type": "code",
   "execution_count": 212,
   "id": "c35fac48",
   "metadata": {},
   "outputs": [
    {
     "name": "stdout",
     "output_type": "stream",
     "text": [
      "Updated Inventory:\n",
      "t-shirt: 1\n",
      "mug: 2\n",
      "hat: 0\n",
      "book: 0\n",
      "keychain: 1\n"
     ]
    }
   ],
   "source": [
    "# Print updated inventory \n",
    "\n",
    "def print_inventory(updated_inventory):\n",
    "    print(\"Updated Inventory:\")\n",
    "    updated_inventory = {print(f\"{product}: {quantity}\") for product, quantity in updated_inventory.items()}\n",
    "\n",
    "print_inventory(updated_inventory)\n"
   ]
  },
  {
   "cell_type": "code",
   "execution_count": 213,
   "id": "f0f815f7",
   "metadata": {},
   "outputs": [
    {
     "name": "stdout",
     "output_type": "stream",
     "text": [
      "Updated Inventory:\n",
      "t-shirt: 1\n",
      "mug: 3\n",
      "hat: 1\n",
      "book: 1\n",
      "keychain: 1\n"
     ]
    }
   ],
   "source": [
    "def print_inventory(inventory):\n",
    "    print(\"Updated Inventory:\")\n",
    "    for product, quantity in inventory.items():\n",
    "        print(f\"{product}: {quantity}\")\n",
    "# Print updated inventory\n",
    "print_inventory(inventory)"
   ]
  },
  {
   "cell_type": "code",
   "execution_count": 214,
   "id": "8472152d",
   "metadata": {},
   "outputs": [
    {
     "name": "stdout",
     "output_type": "stream",
     "text": [
      "135\n"
     ]
    }
   ],
   "source": [
    "#3 total price\n",
    "\n",
    "def calculated_total_price(customer_orders):\n",
    "    all_price = [int(input(f'pls enter the price of {order}')) for order in customer_orders]\n",
    "    sum_new_list = sum(all_price)\n",
    "    return sum_new_list\n",
    "\n",
    "print(calculated_total_price(customer_orders))\n"
   ]
  },
  {
   "cell_type": "code",
   "execution_count": 273,
   "id": "67f35449",
   "metadata": {},
   "outputs": [
    {
     "name": "stdout",
     "output_type": "stream",
     "text": [
      "for apple the price is 34\n",
      "for banana the price is 45\n",
      "for banana the price is 43\n",
      "total price for the order is 122\n"
     ]
    },
    {
     "data": {
      "text/plain": [
       "({'apple': 34, 'banana': 43}, 122)"
      ]
     },
     "execution_count": 273,
     "metadata": {},
     "output_type": "execute_result"
    }
   ],
   "source": [
    "#5 the total price \n",
    "\n",
    "\n",
    "def print_the_price(customer_orders):\n",
    "    order_price = {}\n",
    "    total_price = 0\n",
    "    for products in customer_orders:\n",
    "        each_price = int(input(f'pls enter the price of {products}'))\n",
    "        order_price[products] = each_price\n",
    "        total_price += each_price\n",
    "        print(f'for {products} the price is {each_price}')\n",
    "\n",
    "    print(f'total price for the order is {total_price}')\n",
    "    return order_price, total_price\n",
    " \n",
    "print_the_price(customer_orders)\n",
    "\n"
   ]
  },
  {
   "cell_type": "code",
   "execution_count": 215,
   "id": "0dbf67e3",
   "metadata": {},
   "outputs": [
    {
     "data": {
      "text/plain": [
       "['mug', 'book', 'hat']"
      ]
     },
     "execution_count": 215,
     "metadata": {},
     "output_type": "execute_result"
    }
   ],
   "source": [
    "customer_orders"
   ]
  },
  {
   "cell_type": "code",
   "execution_count": 216,
   "id": "b50c5d32",
   "metadata": {},
   "outputs": [
    {
     "data": {
      "text/plain": [
       "{'t-shirt': 1, 'mug': 3, 'hat': 1, 'book': 1, 'keychain': 1}"
      ]
     },
     "execution_count": 216,
     "metadata": {},
     "output_type": "execute_result"
    }
   ],
   "source": [
    "inventory"
   ]
  },
  {
   "cell_type": "code",
   "execution_count": 217,
   "id": "a4771135",
   "metadata": {},
   "outputs": [
    {
     "data": {
      "text/plain": [
       "{'t-shirt': 1, 'mug': 2, 'hat': 0, 'book': 0, 'keychain': 1}"
      ]
     },
     "execution_count": 217,
     "metadata": {},
     "output_type": "execute_result"
    }
   ],
   "source": [
    "updated_inventory"
   ]
  },
  {
   "cell_type": "code",
   "execution_count": 218,
   "id": "d3042834",
   "metadata": {},
   "outputs": [
    {
     "name": "stdout",
     "output_type": "stream",
     "text": [
      "{'t-shirt': 1, 'mug': 2, 'keychain': 1}\n"
     ]
    }
   ],
   "source": [
    "# 4 updated_inventory() zero stock remove\n",
    "\n",
    "def updated_inventory(inventory, customer_orders):\n",
    "    updated_inventory = {products: int(inventory[products])- 1 if products in customer_orders else inventory[products] for products in inventory}\n",
    "    updated_inventory = {product: stock for product, stock in updated_inventory.items() if stock > 0}\n",
    "    print(updated_inventory) \n",
    "updated_inventory = updated_inventory(inventory, customer_orders)\n",
    "updated_inventory"
   ]
  },
  {
   "cell_type": "code",
   "execution_count": 194,
   "id": "c07a0392",
   "metadata": {},
   "outputs": [
    {
     "ename": "AttributeError",
     "evalue": "'NoneType' object has no attribute 'item'",
     "output_type": "error",
     "traceback": [
      "\u001b[0;31m---------------------------------------------------------------------------\u001b[0m",
      "\u001b[0;31mAttributeError\u001b[0m                            Traceback (most recent call last)",
      "Cell \u001b[0;32mIn[194], line 1\u001b[0m\n\u001b[0;32m----> 1\u001b[0m \u001b[38;5;28;01mfor\u001b[39;00m products, values \u001b[38;5;129;01min\u001b[39;00m \u001b[43mupdated_inventory\u001b[49m\u001b[38;5;241;43m.\u001b[39;49m\u001b[43mitem\u001b[49m():\n\u001b[1;32m      2\u001b[0m         \u001b[38;5;28;01mif\u001b[39;00m value \u001b[38;5;241m==\u001b[39m \u001b[38;5;241m0\u001b[39m:\n\u001b[1;32m      3\u001b[0m             \u001b[38;5;28;01mdel\u001b[39;00m updated_inventory[products]\n",
      "\u001b[0;31mAttributeError\u001b[0m: 'NoneType' object has no attribute 'item'"
     ]
    }
   ],
   "source": []
  }
 ],
 "metadata": {
  "kernelspec": {
   "display_name": "Python 3 (ipykernel)",
   "language": "python",
   "name": "python3"
  },
  "language_info": {
   "codemirror_mode": {
    "name": "ipython",
    "version": 3
   },
   "file_extension": ".py",
   "mimetype": "text/x-python",
   "name": "python",
   "nbconvert_exporter": "python",
   "pygments_lexer": "ipython3",
   "version": "3.11.3"
  }
 },
 "nbformat": 4,
 "nbformat_minor": 5
}
